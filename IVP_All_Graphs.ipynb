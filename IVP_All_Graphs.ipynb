{
  "nbformat": 4,
  "nbformat_minor": 0,
  "metadata": {
    "colab": {
      "name": "IVP - All Graphs",
      "provenance": []
    },
    "kernelspec": {
      "name": "python3",
      "display_name": "Python 3"
    }
  },
  "cells": [
    {
      "cell_type": "code",
      "metadata": {
        "id": "g5gVi7ev1nJY"
      },
      "source": [
        "import pandas as pd\n",
        "import matplotlib.pyplot as plt\n"
      ],
      "execution_count": null,
      "outputs": []
    },
    {
      "cell_type": "code",
      "metadata": {
        "id": "_wIT6U8z1vGX",
        "outputId": "1f46ac29-56a7-4413-9341-06911980ad87",
        "colab": {
          "base_uri": "https://localhost:8080/"
        }
      },
      "source": [
        "#file_loc= \"U:/Edm/PC and ORM/ORM/Consequence/Volume Out Calculation/Current Volume Out Profiles/Graphs\"\n",
        "HCAs_all=pd.read_csv(f\"{'2019 HCAs_US & CAD'}.csv\")\n",
        "Valves_all=pd.read_excel(f\"{'Valves_All'}.xls\")\n",
        "Facilities_all=pd.read_excel(f\"{'Facilities_All'}.xls\")\n",
        "water_Xing_all= pd.read_excel(f\"{'Water Crossings'}.xlsx\")"
      ],
      "execution_count": null,
      "outputs": [
        {
          "output_type": "stream",
          "text": [
            "WARNING *** OLE2 inconsistency: SSCS size is 0 but SSAT size is non-zero\n"
          ],
          "name": "stdout"
        }
      ]
    },
    {
      "cell_type": "code",
      "metadata": {
        "id": "6EexSC7s1xrU"
      },
      "source": [
        "def draw_graph(Baseline,line_ID, pic_num, RC_valves,HO_valves, facility_name1,facility_name2,x_limit1,x_limit2, maj_water_Xing,min_water_Xing,CNW,ESA,DW,OPA,HPA):\n",
        "  fig, ax = plt.subplots()\n",
        "  \n",
        "  y_top = Baseline[\"Maximum Total LVR (bbl)\"].max()+2000\n",
        "\n",
        "  for index, row in maj_water_Xing.iterrows():\n",
        "    vertical_alignment= 0.5*y_top if (index % 2 == 0) else 0.5*y_top+1000\n",
        "    ax.axvline(x=row[\"ROW MP\"],color = \"xkcd:lightish blue\", linewidth = .6, alpha=.6 , label = \"Water Crossing>=100 ft\")\n",
        "    ax.annotate(int(round(row['Width (ft)'])), xy=(row[\"ROW MP\"], vertical_alignment),size = 5, color = \"xkcd:lightish blue\")\n",
        "\n",
        "  for j in min_water_Xing['ROW MP']:\n",
        "    ax.axvline(x=j,color = \"orange\", linewidth = .5 , label = \"Water Crossing <100 ft\")\n",
        "   \n",
        "  ax.plot(Baseline[\"ROW MP\"],Baseline[\"Maximum Total LVR (bbl)\"],color = \"red\", label = \"Baseline\", linewidth = 0.6, alpha = 1,zorder = 2)\n",
        "  ax.set_xlabel(\"ROW MP\", fontsize=\"x-small\")\n",
        "\n",
        "  ax.set_ylabel(\"Potential Volume Release (bbl)\",fontsize=\"x-small\")\n",
        "  \n",
        "  \n",
        "\n",
        "  ax.tick_params(axis='x', which='major', pad=-5,labelrotation=45, labelsize = 7)\n",
        "  ax.tick_params(axis=\"y\", labelsize = 7)\n",
        "  ax.get_xaxis().set_major_formatter(plt.FuncFormatter(lambda x, loc: \"{:,}\".format(int(x))))\n",
        "  plt.ylim(bottom = 0,top=y_top)\n",
        "           \n",
        "  plt.xlim(left = x_limit1,right=x_limit2)\n",
        "  \n",
        "  plt.scatter(x=x_limit1, y = 0, marker =\"s\", color = \"black\", label = \"Facilities\", zorder = 3, clip_on=False, s= 10)\n",
        "  plt.scatter(x=x_limit2, y = 0, marker =\"s\", color = \"black\", label = \"Facilities\", zorder = 3, clip_on=False, s = 10)\n",
        "  ax.grid(axis=\"both\",which=\"major\", ls=\"--\", c=\"#eeeeee\", linewidth=0.5, alpha = 0.8,zorder = -1)\n",
        "\n",
        "  for index, row in RC_valves.iterrows():\n",
        "    ax.scatter(x=row[\"ROW MP\"], y = 0 , marker =\"o\", color = \"xkcd:darkish green\", label = \"Existing RC Valves\",zorder = 2,clip_on=False, s= 10)\n",
        "   \n",
        "  for index, row in HO_valves.iterrows():\n",
        "    ax.scatter(x=row[\"ROW MP\"], y = 0 , marker =\"x\", color = \"purple\", label = \"HO Valves\",zorder = 2,clip_on=False, s= 10, lw = 0.6)\n",
        "\n",
        "  handles, labels = plt.gca().get_legend_handles_labels()\n",
        "  by_label = dict(zip(labels, handles))\n",
        "  #plt.legend(by_label.values(), by_label.keys())\n",
        "  \n",
        "  ax2 = ax.twinx()\n",
        "  ax2.plot(Baseline[\"ROW MP\"],Baseline[\"Elevation (ft)\"],color = \"green\", label = \"Elevation\" , linewidth = .5, alpha=.7)\n",
        "  ax2.set_ylabel(\"Elevation (ft)\",fontsize=\"x-small\")\n",
        "  plt.ylim(bottom=0, top =Baseline[\"Elevation (ft)\"].max()+300)\n",
        "  ax2.tick_params(axis=\"y\", labelsize = 7)\n",
        "\n",
        "  graph_title = facility_name1+\" to \" + facility_name2\n",
        "  plt.title(graph_title)\n",
        "  \n",
        "  CNW_height = Baseline[\"Elevation (ft)\"].max()+50\n",
        "  ESA_height = Baseline[\"Elevation (ft)\"].max()+100\n",
        "  DW_height = Baseline[\"Elevation (ft)\"].max()+150\n",
        "  OPA_height = Baseline[\"Elevation (ft)\"].max()+200\n",
        "  HPA_height = Baseline[\"Elevation (ft)\"].max()+250\n",
        "\n",
        "  for index, row in CNW.iterrows():\n",
        "    ax2.plot([row[\"StartMP\"], row[\"EndMP\"]], [CNW_height,CNW_height],color = \"xkcd:darkish blue\", linewidth = 3, label = \"CNW\")\n",
        "  for index, row in ESA.iterrows():\n",
        "    ax2.plot([row[\"StartMP\"], row[\"EndMP\"]], [ESA_height,ESA_height],color = \"green\", linewidth = 3, label = \"ESA\")\n",
        "  for index, row in DW.iterrows():\n",
        "    ax2.plot([row[\"StartMP\"], row[\"EndMP\"]], [DW_height,DW_height],color = \"xkcd:lightish blue\", linewidth = 3, label = \"DW\")\n",
        "  for index, row in OPA.iterrows():\n",
        "    ax2.plot([row[\"StartMP\"], row[\"EndMP\"]], [OPA_height,OPA_height],color = \"red\", linewidth = 3, label = \"OPA\")\n",
        "  for index, row in HPA.iterrows():\n",
        "    ax2.plot([row[\"StartMP\"], row[\"EndMP\"]], [HPA_height,HPA_height],color = \"xkcd:darkish red\", linewidth = 3, label = \"HPA\")\n",
        "\n",
        "  handles2, labels2 = plt.gca().get_legend_handles_labels()\n",
        "  handles = handles + handles2\n",
        "  labels = labels + labels2\n",
        "  by_label = dict(zip(labels, handles))\n",
        "  fig.legend(by_label.values(), by_label.keys(), loc='center left', ncol=1,bbox_to_anchor =(1, 0.5,0.5,0.5),fontsize=\"x-small\",frameon=False)\n",
        "  plt.tight_layout()  \n",
        "  \n",
        "  fig.savefig(f\"Line_ID {line_ID}/{pic_num} - {line_ID} - {graph_title}.jpeg\",format='jpeg', dpi=500, bbox_inches='tight')\n",
        "  \n",
        "  plt.show()\n",
        "  \n",
        " "
      ],
      "execution_count": null,
      "outputs": []
    },
    {
      "cell_type": "code",
      "metadata": {
        "id": "aDcV3p461yOs",
        "outputId": "b0c1ae66-5bd6-45d2-8a9f-0d98ad02942c",
        "colab": {
          "base_uri": "https://localhost:8080/",
          "height": 570
        }
      },
      "source": [
        "\n",
        "Baseline = pd.read_excel(\"L0083 - 2020-09-02.xlsx\")\n",
        "\n",
        "\n",
        "line_ID_all=Baseline.Line_ID.unique()\n",
        "\n",
        "for line_ID in line_ID_all:\n",
        "        \n",
        "    valves=Valves_all[Valves_all.loc[:,'Equation Location']==line_ID]\n",
        "    Facilities=Facilities_all[Facilities_all.loc[:,'Equation Location']==line_ID]\n",
        "    HCAs=HCAs_all[HCAs_all.loc[:,'Line_ID']==line_ID]\n",
        "    water_Xing=water_Xing_all[water_Xing_all.Line_ID==line_ID]  \n",
        "    Baseline.fillna(0, inplace=True)\n",
        "\n",
        "    CNW=HCAs[HCAs.HCA_Type==\"CNW\"]\n",
        "    ESA=HCAs[HCAs.HCA_Type==\"ESA\"]\n",
        "    DW=HCAs[HCAs.HCA_Type==\"DW\"]\n",
        "    OPA=HCAs[HCAs.HCA_Type==\"OPA\"]\n",
        "    HPA=HCAs[HCAs.HCA_Type==\"HPA\"]\n",
        "\n",
        "\n",
        "    water_Xing[\"ROW MP\"]= water_Xing[\"MidMP\"]\n",
        "    water_Xing[\"Width (ft)\"] = water_Xing[\"Water_Crossing_Width_ft__min\"].astype(float)\n",
        "    maj_water_Xing = water_Xing[water_Xing.loc[:,\"Width (ft)\"]>= 100].sort_values(by=\"ROW MP\").reset_index(drop=True)\n",
        "    min_water_Xing = water_Xing[(water_Xing[\"Width (ft)\"]< 100)|(water_Xing[\"Width (ft)\"].isnull())].sort_values(by=\"ROW MP\").reset_index(drop=True)\n",
        "\n",
        "    valves[\"ROW MP\"]=valves[\"MP\"]\n",
        "    RC_valves = valves[valves[\"Isolation\"]==\"Yes\"]\n",
        "    HO_valves = valves[valves[\"Isolation\"]==\"No\"]\n",
        "\n",
        "    Facilities= Facilities.merge(valves.loc[:,(\"Relative Location\",\"ROW MP\")],on=\"Relative Location\")\n",
        "\n",
        "    #dir = os.path.join(\"U:/Edm/PC and ORM/ORM/Consequence/Volume Out Calculation/Current Volume Out Profiles/Graphs\",f\"Line_ID {str(line_ID)}\")\n",
        "    #if not os.path.exists(dir):\n",
        "       # os.mkdir(dir)\n",
        "    for i in range(len(Facilities)-1):\n",
        "      x_limit1,x_limit2 = Facilities.loc[i,\"ROW MP\"], Facilities.loc[i+1,\"ROW MP\"]\n",
        "      facility_name1,facility_name2 = Facilities.loc[i,\"Facility Name\"], Facilities.loc[i+1,\"Facility Name\"]\n",
        "      Baseline_filtered = Baseline[(Baseline[\"ROW MP\"]>=x_limit1) & (Baseline[\"ROW MP\"]<=x_limit2)]\n",
        "      maj_water_Xing_filtered=maj_water_Xing[(maj_water_Xing[\"ROW MP\"]>=x_limit1) & (maj_water_Xing[\"ROW MP\"]<=x_limit2)]\n",
        "      min_water_Xing_filtered=min_water_Xing[(min_water_Xing[\"ROW MP\"]>=x_limit1) & (min_water_Xing[\"ROW MP\"]<=x_limit2)]\n",
        "      RC_valves_filtered = RC_valves[(RC_valves[\"ROW MP\"]>=x_limit1) & (RC_valves[\"ROW MP\"]<=x_limit2)]\n",
        "      HO_valves_filtered = HO_valves[(HO_valves[\"ROW MP\"]>=x_limit1) & (HO_valves[\"ROW MP\"]<=x_limit2)]\n",
        "        \n",
        "      fig, ax = plt.subplots()\n",
        "        \n",
        "      y_top = Baseline[\"Maximum Total LVR (bbl)\"].max()+2000\n",
        "\n",
        "      for index, row in maj_water_Xing.iterrows():\n",
        "        vertical_alignment= 0.5*y_top if (index % 2 == 0) else 0.5*y_top+1000\n",
        "        ax.axvline(x=row[\"ROW MP\"],color = \"xkcd:lightish blue\", linewidth = .6, alpha=.6 , label = \"Water Crossing>=100 ft\")\n",
        "        ax.annotate(int(round(row['Width (ft)'])), xy=(row[\"ROW MP\"], vertical_alignment),size = 5, color = \"xkcd:lightish blue\")\n",
        "\n",
        "      for j in min_water_Xing['ROW MP']:\n",
        "        ax.axvline(x=j,color = \"orange\", linewidth = .5 , label = \"Water Crossing <100 ft\")\n",
        "      \n",
        "      ax.plot(Baseline[\"ROW MP\"],Baseline[\"Maximum Total LVR (bbl)\"],color = \"red\", label = \"Baseline\", linewidth = 0.6, alpha = 1,zorder = 2)\n",
        "      ax.set_xlabel(\"ROW MP\", fontsize=\"x-small\")\n",
        "\n",
        "      ax.set_ylabel(\"Potential Volume Release (bbl)\",fontsize=\"x-small\")\n",
        "      \n",
        "      \n",
        "\n",
        "      ax.tick_params(axis='x', which='major', pad=-5,labelrotation=45, labelsize = 7)\n",
        "      ax.tick_params(axis=\"y\", labelsize = 7)\n",
        "      ax.get_xaxis().set_major_formatter(plt.FuncFormatter(lambda x, loc: \"{:,}\".format(int(x))))\n",
        "      plt.ylim(bottom = 0,top=y_top)\n",
        "              \n",
        "      plt.xlim(left = x_limit1,right=x_limit2)\n",
        "      \n",
        "      plt.scatter(x=x_limit1, y = 0, marker =\"s\", color = \"black\", label = \"Facilities\", zorder = 3, clip_on=False, s= 10)\n",
        "      plt.scatter(x=x_limit2, y = 0, marker =\"s\", color = \"black\", label = \"Facilities\", zorder = 3, clip_on=False, s = 10)\n",
        "      ax.grid(axis=\"both\",which=\"major\", ls=\"--\", c=\"#eeeeee\", linewidth=0.5, alpha = 0.8,zorder = -1)\n",
        "\n",
        "      for index, row in RC_valves.iterrows():\n",
        "        ax.scatter(x=row[\"ROW MP\"], y = 0 , marker =\"o\", color = \"xkcd:darkish green\", label = \"Existing RC Valves\",zorder = 2,clip_on=False, s= 10)\n",
        "      \n",
        "      for index, row in HO_valves.iterrows():\n",
        "        ax.scatter(x=row[\"ROW MP\"], y = 0 , marker =\"x\", color = \"purple\", label = \"HO Valves\",zorder = 2,clip_on=False, s= 10, lw = 0.6)\n",
        "\n",
        "      handles, labels = plt.gca().get_legend_handles_labels()\n",
        "      by_label = dict(zip(labels, handles))\n",
        "      #plt.legend(by_label.values(), by_label.keys())\n",
        "      \n",
        "      ax2 = ax.twinx()\n",
        "      ax2.plot(Baseline[\"ROW MP\"],Baseline[\"Elevation (ft)\"],color = \"green\", label = \"Elevation\" , linewidth = .5, alpha=.7)\n",
        "      ax2.set_ylabel(\"Elevation (ft)\",fontsize=\"x-small\")\n",
        "      plt.ylim(bottom=0, top =Baseline[\"Elevation (ft)\"].max()+300)\n",
        "      ax2.tick_params(axis=\"y\", labelsize = 7)\n",
        "\n",
        "      graph_title = facility_name1+\" to \" + facility_name2\n",
        "      plt.title(graph_title)\n",
        "      \n",
        "      CNW_height = Baseline[\"Elevation (ft)\"].max()+50\n",
        "      ESA_height = Baseline[\"Elevation (ft)\"].max()+100\n",
        "      DW_height = Baseline[\"Elevation (ft)\"].max()+150\n",
        "      OPA_height = Baseline[\"Elevation (ft)\"].max()+200\n",
        "      HPA_height = Baseline[\"Elevation (ft)\"].max()+250\n",
        "\n",
        "      for index, row in CNW.iterrows():\n",
        "        ax2.plot([row[\"StartMP\"], row[\"EndMP\"]], [CNW_height,CNW_height],color = \"xkcd:darkish blue\", linewidth = 3, label = \"CNW\")\n",
        "      for index, row in ESA.iterrows():\n",
        "        ax2.plot([row[\"StartMP\"], row[\"EndMP\"]], [ESA_height,ESA_height],color = \"green\", linewidth = 3, label = \"ESA\")\n",
        "      for index, row in DW.iterrows():\n",
        "        ax2.plot([row[\"StartMP\"], row[\"EndMP\"]], [DW_height,DW_height],color = \"xkcd:lightish blue\", linewidth = 3, label = \"DW\")\n",
        "      for index, row in OPA.iterrows():\n",
        "        ax2.plot([row[\"StartMP\"], row[\"EndMP\"]], [OPA_height,OPA_height],color = \"red\", linewidth = 3, label = \"OPA\")\n",
        "      for index, row in HPA.iterrows():\n",
        "        ax2.plot([row[\"StartMP\"], row[\"EndMP\"]], [HPA_height,HPA_height],color = \"xkcd:darkish red\", linewidth = 3, label = \"HPA\")\n",
        "\n",
        "      handles2, labels2 = plt.gca().get_legend_handles_labels()\n",
        "      handles = handles + handles2\n",
        "      labels = labels + labels2\n",
        "      by_label = dict(zip(labels, handles))\n",
        "      fig.legend(by_label.values(), by_label.keys(), loc='center left', ncol=1,bbox_to_anchor =(1, 0.5,0.5,0.5),fontsize=\"x-small\",frameon=False)\n",
        "      plt.tight_layout()  \n",
        "      \n",
        "      fig.savefig(f\"{i} - {line_ID} - {graph_title}.jpeg\",format='jpeg', dpi=500, bbox_inches='tight')\n",
        "      \n",
        "      plt.show()"
      ],
      "execution_count": null,
      "outputs": [
        {
          "output_type": "stream",
          "text": [
            "/usr/local/lib/python3.6/dist-packages/ipykernel_launcher.py:22: SettingWithCopyWarning: \n",
            "A value is trying to be set on a copy of a slice from a DataFrame.\n",
            "Try using .loc[row_indexer,col_indexer] = value instead\n",
            "\n",
            "See the caveats in the documentation: https://pandas.pydata.org/pandas-docs/stable/user_guide/indexing.html#returning-a-view-versus-a-copy\n",
            "/usr/local/lib/python3.6/dist-packages/ipykernel_launcher.py:23: SettingWithCopyWarning: \n",
            "A value is trying to be set on a copy of a slice from a DataFrame.\n",
            "Try using .loc[row_indexer,col_indexer] = value instead\n",
            "\n",
            "See the caveats in the documentation: https://pandas.pydata.org/pandas-docs/stable/user_guide/indexing.html#returning-a-view-versus-a-copy\n",
            "/usr/local/lib/python3.6/dist-packages/ipykernel_launcher.py:27: SettingWithCopyWarning: \n",
            "A value is trying to be set on a copy of a slice from a DataFrame.\n",
            "Try using .loc[row_indexer,col_indexer] = value instead\n",
            "\n",
            "See the caveats in the documentation: https://pandas.pydata.org/pandas-docs/stable/user_guide/indexing.html#returning-a-view-versus-a-copy\n"
          ],
          "name": "stderr"
        },
        {
          "output_type": "display_data",
          "data": {
            "image/png": "[encoded data removed]",
            "text/plain": [
              "<Figure size 432x288 with 2 Axes>"
            ]
          },
          "metadata": {
            "tags": [],
            "needs_background": "light"
          }
        }
      ]
    },
    {
      "cell_type": "code",
      "metadata": {
        "id": "f7UHJJD12eY4"
      },
      "source": [
        ""
      ],
      "execution_count": null,
      "outputs": []
    }
  ]
}